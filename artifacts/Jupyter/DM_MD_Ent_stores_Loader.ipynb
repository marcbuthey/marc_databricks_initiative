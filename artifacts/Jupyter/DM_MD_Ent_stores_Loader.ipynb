{
 "cells": [
  {
   "cell_type": "code",
   "execution_count": null,
   "id": "Yu20uRm6",
   "metadata": {},
   "outputs": [],
   "source" : [
    "# Setup input parameters\n",
    "from datetime import datetime as dt\n",
    "dbutils.widgets.text('bg_loadtimestamp', '')\n",
    "bg_loadtimestamp = dbutils.widgets.get('bg_loadtimestamp')\n",
    "bg_loadtimestamp_str = bg_loadtimestamp\n",
    "if not bg_loadtimestamp:\n",
    "    bg_loadtimestamp = 'CAST(NULL AS Timestamp)'\n",
    "else:\n",
    "    bg_loadtimestamp = f\"CAST('{bg_loadtimestamp}' AS Timestamp)\"\n",
    "\n",
    "\n"
   ]
  },
  {
   "cell_type": "code",
   "execution_count": null,
   "id": "M6to2wXG",
   "metadata": {},
   "outputs": [],
   "source" : [
    "# Setup logging\n",
    "logger = spark._jvm.org.apache.log4j.Logger.getLogger('com.bigenius-x.application')\n",
    "def info(targetName, message):\n",
    "    logger.info(f'{targetName}: {message}')\n",
    "    print(f\"{dt.now().strftime('%Y/%m/%d, %H:%M:%S')} - {targetName}: {message}\")\n",
    "\n",
    "\n"
   ]
  },
  {
   "cell_type": "code",
   "execution_count": null,
   "id": "GK/qL3Wu",
   "metadata": {},
   "outputs": [],
   "source" : [
    "# MartDimensionLoader: Ent_stores_Mart Dimension Loader_1\n",
    "\n",
    "try:\n",
    "\n",
    "    operation_metrics_collection = {}\n",
    "    result_df = spark.sql(f\"\"\"\n",
    "    MERGE\n",
    "    INTO `{marc_databricks_initiative#mart#database_name}`.`{marc_databricks_initiative#mart#schema_name}`.`dm_md_ent_stores` AS `bg_target`\n",
    "    USING (\n",
    "        SELECT\n",
    "             `bg_source`.`bg_sourcesystem` AS `bg_sourcesystem`\n",
    "            ,{bg_loadtimestamp} AS `bg_loadtimestamp`\n",
    "            ,`bg_source`.`bg_rowhash` AS `bg_rowhash`\n",
    "            ,`bg_source`.`store_id` AS `store_id`\n",
    "        FROM `{marc_databricks_initiative#mart#database_name}`.`{marc_databricks_initiative#mart#schema_name}`.`dm_md_ent_stores_delta` AS `bg_source`\n",
    "    ) AS `bg_source`\n",
    "       ON (`bg_source`.`store_id` = `bg_target`.`store_id`)\n",
    "    WHEN MATCHED\n",
    "    THEN\n",
    "        UPDATE \n",
    "        SET\n",
    "             `bg_sourcesystem` = `bg_source`.`bg_sourcesystem`\n",
    "            ,`bg_loadtimestamp` = `bg_source`.`bg_loadtimestamp`\n",
    "            ,`bg_rowhash` = `bg_source`.`bg_rowhash`\n",
    "    WHEN NOT MATCHED\n",
    "    THEN\n",
    "        INSERT\n",
    "        (\n",
    "             `bg_sourcesystem`\n",
    "            ,`bg_loadtimestamp`\n",
    "            ,`bg_rowhash`\n",
    "            ,`store_id`\n",
    "        )\n",
    "        VALUES (\n",
    "             `bg_source`.`bg_sourcesystem`\n",
    "            ,`bg_source`.`bg_loadtimestamp`\n",
    "            ,`bg_source`.`bg_rowhash`\n",
    "            ,`bg_source`.`store_id`\n",
    "        )\n",
    "    \"\"\")\n",
    "    RowCountInserted = result_df.select(\"num_inserted_rows\").collect()[0][0]\n",
    "    operation_metrics = result_df.toJSON().collect()\n",
    "    operation_metrics_collection['upserttarget_{marc_databricks_initiative#mart#database_name}_{marc_databricks_initiative#mart#schema_name}_dm_md_ent_stores'] = operation_metrics\n",
    "\n",
    "except Exception as e:\n",
    "    info('DM_MD_Ent_stores_Loader', e)\n",
    "    raise\n",
    "\n"
   ]
  },
  {
   "cell_type": "code",
   "execution_count": null,
   "id": "qo52+1Vi",
   "metadata": {},
   "outputs": [],
   "source" : [
    "dbutils.notebook.exit(operation_metrics_collection)\n"
   ]
  } ],
 "metadata": {
  "kernelspec": {
   "display_name" : "Python 3 (ipykernel)",
   "language" : "python",
   "name" : "python3"
  },
  "language_info" : {
   "codemirror_mode" : {
    "name" : "ipython",
    "version" : 3
   },
   "file_extension" : ".py",
   "mimetype" : "text/x-python",
   "name" : "python",
   "nbconvert_exporter" : "python",
   "pygments_lexer" : "ipython3",
   "version" : "3.10.9"
  }
 },
 "nbformat" : 4,
 "nbformat_minor" : 5
}
