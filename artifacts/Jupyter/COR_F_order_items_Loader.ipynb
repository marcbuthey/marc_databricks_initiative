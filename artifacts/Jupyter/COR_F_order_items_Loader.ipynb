{
 "cells": [
  {
   "cell_type": "code",
   "execution_count": null,
   "id": "Z2zxya4o",
   "metadata": {},
   "outputs": [],
   "source" : [
    "# Setup input parameters\n",
    "from datetime import datetime as dt\n",
    "dbutils.widgets.text('bg_loadtimestamp', '')\n",
    "bg_loadtimestamp = dbutils.widgets.get('bg_loadtimestamp')\n",
    "bg_loadtimestamp_str = bg_loadtimestamp\n",
    "if not bg_loadtimestamp:\n",
    "    bg_loadtimestamp = 'CAST(NULL AS Timestamp)'\n",
    "else:\n",
    "    bg_loadtimestamp = f\"CAST('{bg_loadtimestamp}' AS Timestamp)\"\n",
    "\n",
    "\n"
   ]
  },
  {
   "cell_type": "code",
   "execution_count": null,
   "id": "TYmnAi9C",
   "metadata": {},
   "outputs": [],
   "source" : [
    "# Setup logging\n",
    "logger = spark._jvm.org.apache.log4j.Logger.getLogger('com.bigenius-x.application')\n",
    "def info(targetName, message):\n",
    "    logger.info(f'{targetName}: {message}')\n",
    "    print(f\"{dt.now().strftime('%Y/%m/%d, %H:%M:%S')} - {targetName}: {message}\")\n",
    "\n",
    "\n"
   ]
  },
  {
   "cell_type": "code",
   "execution_count": null,
   "id": "ApUff6eR",
   "metadata": {},
   "outputs": [],
   "source" : [
    "# FactCoreTruncateInsertLoader: order_items_Fact Core TruncateInsertLoader_1\n",
    "\n",
    "try:\n",
    "\n",
    "    operation_metrics_collection = {}\n",
    "    result_df = spark.sql(f\"\"\"\n",
    "    INSERT\n",
    "    OVERWRITE `{marc_databricks_initiative#core#database_name}`.`{marc_databricks_initiative#core#schema_name}`.`cor_f_order_items` (\n",
    "         `bg_loadtimestamp`\n",
    "        ,`bg_sourcesystem`\n",
    "        ,`ent_orders_ent_orders_id`\n",
    "        ,`ent_customers_ent_customers_id`\n",
    "        ,`ent_products_ent_products_id`\n",
    "        ,`ent_stores_ent_stores_id`\n",
    "        ,`unit_price`\n",
    "        ,`quantity`\n",
    "    )\n",
    "    SELECT\n",
    "         {bg_loadtimestamp} AS `bg_loadtimestamp`\n",
    "        ,`bg_source`.`bg_sourcesystem` AS `bg_sourcesystem`\n",
    "        ,`bg_source`.`ent_orders_ent_orders_id` AS `ent_orders_ent_orders_id`\n",
    "        ,`bg_source`.`ent_customers_ent_customers_id` AS `ent_customers_ent_customers_id`\n",
    "        ,`bg_source`.`ent_products_ent_products_id` AS `ent_products_ent_products_id`\n",
    "        ,`bg_source`.`ent_stores_ent_stores_id` AS `ent_stores_ent_stores_id`\n",
    "        ,`bg_source`.`unit_price` AS `unit_price`\n",
    "        ,`bg_source`.`quantity` AS `quantity`\n",
    "    FROM `{marc_databricks_initiative#core#database_name}`.`{marc_databricks_initiative#core#schema_name}`.`cor_f_order_items_lookup` AS `bg_source`\n",
    "    \"\"\")\n",
    "    RowCountInserted = result_df.select(\"num_inserted_rows\").collect()[0][0]\n",
    "    operation_metrics = result_df.toJSON().collect()\n",
    "    operation_metrics_collection['reloadtarget_{marc_databricks_initiative#core#database_name}_{marc_databricks_initiative#core#schema_name}_cor_f_order_items'] = operation_metrics\n",
    "\n",
    "except Exception as e:\n",
    "    info('COR_F_order_items_Loader', e)\n",
    "    raise\n",
    "\n"
   ]
  },
  {
   "cell_type": "code",
   "execution_count": null,
   "id": "CxoSPN6T",
   "metadata": {},
   "outputs": [],
   "source" : [
    "dbutils.notebook.exit(operation_metrics_collection)\n"
   ]
  } ],
 "metadata": {
  "kernelspec": {
   "display_name" : "Python 3 (ipykernel)",
   "language" : "python",
   "name" : "python3"
  },
  "language_info" : {
   "codemirror_mode" : {
    "name" : "ipython",
    "version" : 3
   },
   "file_extension" : ".py",
   "mimetype" : "text/x-python",
   "name" : "python",
   "nbconvert_exporter" : "python",
   "pygments_lexer" : "ipython3",
   "version" : "3.10.9"
  }
 },
 "nbformat" : 4,
 "nbformat_minor" : 5
}
