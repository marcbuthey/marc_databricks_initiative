{
 "cells": [
  {
   "cell_type": "code",
   "execution_count": null,
   "id": "EPHUuRIo",
   "metadata": {},
   "outputs": [],
   "source" : [
    "# Setup input parameters\n",
    "from datetime import datetime as dt\n",
    "dbutils.widgets.text('bg_loadtimestamp', '')\n",
    "bg_loadtimestamp = dbutils.widgets.get('bg_loadtimestamp')\n",
    "bg_loadtimestamp_str = bg_loadtimestamp\n",
    "if not bg_loadtimestamp:\n",
    "    bg_loadtimestamp = 'CAST(NULL AS Timestamp)'\n",
    "else:\n",
    "    bg_loadtimestamp = f\"CAST('{bg_loadtimestamp}' AS Timestamp)\"\n",
    "\n",
    "\n"
   ]
  },
  {
   "cell_type": "code",
   "execution_count": null,
   "id": "88y6oHim",
   "metadata": {},
   "outputs": [],
   "source" : [
    "# Setup logging\n",
    "logger = spark._jvm.org.apache.log4j.Logger.getLogger('com.bigenius-x.application')\n",
    "def info(targetName, message):\n",
    "    logger.info(f'{targetName}: {message}')\n",
    "    print(f\"{dt.now().strftime('%Y/%m/%d, %H:%M:%S')} - {targetName}: {message}\")\n",
    "\n",
    "\n"
   ]
  },
  {
   "cell_type": "code",
   "execution_count": null,
   "id": "/XVj88y4",
   "metadata": {},
   "outputs": [],
   "source" : [
    "# StageLoader: products_Stage Loader_1\n",
    "\n",
    "try:\n",
    "\n",
    "    operation_metrics_collection = {}\n",
    "    result_df = spark.sql(f\"\"\"\n",
    "    INSERT\n",
    "    OVERWRITE `{marc_databricks_initiative#stage#database_name}`.`{marc_databricks_initiative#stage#schema_name}`.`stg_st_products` (\n",
    "         `bg_loadtimestamp`\n",
    "        ,`bg_sourcesystem`\n",
    "        ,`product_id`\n",
    "        ,`product_name`\n",
    "        ,`unit_price`\n",
    "        ,`product_details`\n",
    "        ,`product_image`\n",
    "        ,`image_mime_type`\n",
    "        ,`image_filename`\n",
    "        ,`image_charset`\n",
    "        ,`image_last_updated`\n",
    "    )\n",
    "    SELECT\n",
    "         {bg_loadtimestamp} AS `bg_loadtimestamp`\n",
    "        ,`bg_source`.`bg_sourcesystem` AS `bg_sourcesystem`\n",
    "        ,`bg_source`.`product_id` AS `product_id`\n",
    "        ,`bg_source`.`product_name` AS `product_name`\n",
    "        ,`bg_source`.`unit_price` AS `unit_price`\n",
    "        ,`bg_source`.`product_details` AS `product_details`\n",
    "        ,`bg_source`.`product_image` AS `product_image`\n",
    "        ,`bg_source`.`image_mime_type` AS `image_mime_type`\n",
    "        ,`bg_source`.`image_filename` AS `image_filename`\n",
    "        ,`bg_source`.`image_charset` AS `image_charset`\n",
    "        ,`bg_source`.`image_last_updated` AS `image_last_updated`\n",
    "    FROM `{marc_databricks_initiative#stage#database_name}`.`{marc_databricks_initiative#stage#schema_name}`.`stg_st_products_source` AS `bg_source`\n",
    "    \"\"\")\n",
    "    RowCountInserted = result_df.select(\"num_inserted_rows\").collect()[0][0]\n",
    "    operation_metrics = result_df.toJSON().collect()\n",
    "    operation_metrics_collection['reloadtarget_{marc_databricks_initiative#stage#database_name}_{marc_databricks_initiative#stage#schema_name}_stg_st_products'] = operation_metrics\n",
    "\n",
    "except Exception as e:\n",
    "    info('STG_ST_products_Loader', e)\n",
    "    raise\n",
    "\n"
   ]
  },
  {
   "cell_type": "code",
   "execution_count": null,
   "id": "JhaShPTf",
   "metadata": {},
   "outputs": [],
   "source" : [
    "dbutils.notebook.exit(operation_metrics_collection)\n"
   ]
  } ],
 "metadata": {
  "kernelspec": {
   "display_name" : "Python 3 (ipykernel)",
   "language" : "python",
   "name" : "python3"
  },
  "language_info" : {
   "codemirror_mode" : {
    "name" : "ipython",
    "version" : 3
   },
   "file_extension" : ".py",
   "mimetype" : "text/x-python",
   "name" : "python",
   "nbconvert_exporter" : "python",
   "pygments_lexer" : "ipython3",
   "version" : "3.10.9"
  }
 },
 "nbformat" : 4,
 "nbformat_minor" : 5
}
