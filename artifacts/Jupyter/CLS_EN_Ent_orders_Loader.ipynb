{
 "cells": [
  {
   "cell_type": "code",
   "execution_count": null,
   "id": "e4ZldGi4",
   "metadata": {},
   "outputs": [],
   "source" : [
    "# Setup input parameters\n",
    "from datetime import datetime as dt\n",
    "dbutils.widgets.text('bg_loadtimestamp', '')\n",
    "bg_loadtimestamp = dbutils.widgets.get('bg_loadtimestamp')\n",
    "bg_loadtimestamp_str = bg_loadtimestamp\n",
    "if not bg_loadtimestamp:\n",
    "    bg_loadtimestamp = 'CAST(NULL AS Timestamp)'\n",
    "else:\n",
    "    bg_loadtimestamp = f\"CAST('{bg_loadtimestamp}' AS Timestamp)\"\n",
    "\n",
    "\n"
   ]
  },
  {
   "cell_type": "code",
   "execution_count": null,
   "id": "XjScJSXc",
   "metadata": {},
   "outputs": [],
   "source" : [
    "# Setup logging\n",
    "logger = spark._jvm.org.apache.log4j.Logger.getLogger('com.bigenius-x.application')\n",
    "def info(targetName, message):\n",
    "    logger.info(f'{targetName}: {message}')\n",
    "    print(f\"{dt.now().strftime('%Y/%m/%d, %H:%M:%S')} - {targetName}: {message}\")\n",
    "\n",
    "\n"
   ]
  },
  {
   "cell_type": "code",
   "execution_count": null,
   "id": "OB4BtH2M",
   "metadata": {},
   "outputs": [],
   "source" : [
    "# EntityCleanseLoader: Ent_orders_Entity Cleanse Loader_1\n",
    "\n",
    "try:\n",
    "\n",
    "    operation_metrics_collection = {}\n",
    "    result_df = spark.sql(f\"\"\"\n",
    "    INSERT\n",
    "    OVERWRITE `{marc_databricks_initiative#cleanse#database_name}`.`{marc_databricks_initiative#cleanse#schema_name}`.`cls_en_ent_orders` (\n",
    "         `bg_sourcesystem`\n",
    "        ,`bg_loadtimestamp`\n",
    "        ,`bg_errorcount`\n",
    "        ,`bg_effectivetimestamp`\n",
    "        ,`order_id`\n",
    "        ,`order_status`\n",
    "        ,`order_total`\n",
    "    )\n",
    "    SELECT\n",
    "         `bg_source`.`bg_sourcesystem` AS `bg_sourcesystem`\n",
    "        ,{bg_loadtimestamp} AS `bg_loadtimestamp`\n",
    "        ,0 AS `bg_errorcount`\n",
    "        ,`bg_source`.`bg_effectivetimestamp` AS `bg_effectivetimestamp`\n",
    "        ,`bg_source`.`order_id` AS `order_id`\n",
    "        ,`bg_source`.`order_status` AS `order_status`\n",
    "        ,`bg_source`.`order_total` AS `order_total`\n",
    "    FROM `{marc_databricks_initiative#cleanse#database_name}`.`{marc_databricks_initiative#cleanse#schema_name}`.`cls_en_ent_orders_source` AS `bg_source`\n",
    "    \"\"\")\n",
    "    RowCountInserted = result_df.select(\"num_inserted_rows\").collect()[0][0]\n",
    "    operation_metrics = result_df.toJSON().collect()\n",
    "    operation_metrics_collection['reloadtarget_{marc_databricks_initiative#cleanse#database_name}_{marc_databricks_initiative#cleanse#schema_name}_cls_en_ent_orders'] = operation_metrics\n",
    "\n",
    "except Exception as e:\n",
    "    info('CLS_EN_Ent_orders_Loader', e)\n",
    "    raise\n",
    "\n"
   ]
  },
  {
   "cell_type": "code",
   "execution_count": null,
   "id": "XbNv4zlH",
   "metadata": {},
   "outputs": [],
   "source" : [
    "dbutils.notebook.exit(operation_metrics_collection)\n"
   ]
  } ],
 "metadata": {
  "kernelspec": {
   "display_name" : "Python 3 (ipykernel)",
   "language" : "python",
   "name" : "python3"
  },
  "language_info" : {
   "codemirror_mode" : {
    "name" : "ipython",
    "version" : 3
   },
   "file_extension" : ".py",
   "mimetype" : "text/x-python",
   "name" : "python",
   "nbconvert_exporter" : "python",
   "pygments_lexer" : "ipython3",
   "version" : "3.10.9"
  }
 },
 "nbformat" : 4,
 "nbformat_minor" : 5
}
